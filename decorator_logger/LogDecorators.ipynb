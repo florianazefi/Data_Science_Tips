{
 "cells": [
  {
   "cell_type": "markdown",
   "metadata": {},
   "source": [
    "# A decorator for logging"
   ]
  },
  {
   "cell_type": "markdown",
   "metadata": {},
   "source": [
    "We import `datetime` to form the  logging string but even more important is `functools`, \n",
    "<br>\n",
    "which has the decorator `wrap` that can be used to indicate a function is just a wrapper around another function."
   ]
  },
  {
   "cell_type": "code",
   "execution_count": null,
   "metadata": {},
   "outputs": [],
   "source": [
    "import functools\n",
    "import datetime"
   ]
  },
  {
   "cell_type": "markdown",
   "metadata": {},
   "source": [
    "The actual decorator:"
   ]
  },
  {
   "cell_type": "code",
   "execution_count": null,
   "metadata": {},
   "outputs": [],
   "source": [
    "def logging(func):\n",
    "    @functools.wraps(func)\n",
    "    def func_wrapper(*args, **kwargs):\n",
    "        timestring = datetime.datetime.now().strftime(\"%Y-%m-%d %H:%M:%S\")\n",
    "        print (timestring +\": beginning function \" + func.__name__)\n",
    "        res = func(*args, **kwargs)\n",
    "        print(timestring +\": ending function \" + func.__name__)\n",
    "        return res\n",
    "    return func_wrapper"
   ]
  },
  {
   "cell_type": "markdown",
   "metadata": {},
   "source": [
    "Define a function that is decorated by out `logging` decorator:"
   ]
  },
  {
   "cell_type": "code",
   "execution_count": null,
   "metadata": {},
   "outputs": [],
   "source": [
    "@logging\n",
    "def print_name(name):\n",
    "    if name == \"Einstein\":\n",
    "        print(\"=====>>>>>> Hi, it's me! \" + name + \"!\")\n",
    "    else:\n",
    "        print(\"=====>>>>>> Hi, it's me, \" + name + \"!\")"
   ]
  },
  {
   "cell_type": "markdown",
   "metadata": {},
   "source": [
    "Try it out!"
   ]
  },
  {
   "cell_type": "code",
   "execution_count": null,
   "metadata": {},
   "outputs": [],
   "source": [
    "print_name(\"Einstein\")\n",
    "print_name(\"Floriana\")"
   ]
  }
 ],
 "metadata": {
  "kernelspec": {
   "display_name": "Python 3",
   "language": "python",
   "name": "python3"
  },
  "language_info": {
   "codemirror_mode": {
    "name": "ipython",
    "version": 3
   },
   "file_extension": ".py",
   "mimetype": "text/x-python",
   "name": "python",
   "nbconvert_exporter": "python",
   "pygments_lexer": "ipython3",
   "version": "3.7.1"
  }
 },
 "nbformat": 4,
 "nbformat_minor": 2
}
